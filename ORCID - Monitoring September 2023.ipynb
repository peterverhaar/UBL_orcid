{
 "cells": [
  {
   "cell_type": "markdown",
   "id": "62ad1a41",
   "metadata": {},
   "source": [
    "Firstly, the script reads data from the HR system. From the export, we select only those researchers which are currently employed by the university. "
   ]
  },
  {
   "cell_type": "code",
   "execution_count": 1,
   "id": "a278d93e",
   "metadata": {},
   "outputs": [
    {
     "name": "stdout",
     "output_type": "stream",
     "text": [
      "The BB.xlsx file contains data about 3158 researchers.\n"
     ]
    }
   ],
   "source": [
    "import pandas as pd\n",
    "import os\n",
    "import re\n",
    "\n",
    "bb_xlsx = os.path.join( 'November2022' , 'BB.xlsx' ) \n",
    "bb = pd.read_excel(bb_xlsx)\n",
    "# Select active researchers; without duplicates\n",
    "bb = bb[ bb['groep'] == 'in dienst' ]\n",
    "\n",
    "bb = bb.drop_duplicates(['Medewerker - Email adres (Key)'])\n",
    "bb['email'] = bb['Medewerker - Email adres (Key)'].str.lower()\n",
    "\n",
    "\n",
    "print( f'The BB.xlsx file contains data about {bb.shape[0]} researchers.' )"
   ]
  },
  {
   "cell_type": "markdown",
   "id": "dce90dda",
   "metadata": {},
   "source": [
    "Next, we read in the data exported from LUCRIS. "
   ]
  },
  {
   "cell_type": "code",
   "execution_count": 2,
   "id": "710e33f1",
   "metadata": {},
   "outputs": [
    {
     "name": "stdout",
     "output_type": "stream",
     "text": [
      "The export from LUCRIS contains data about 30153 researchers.\n"
     ]
    }
   ],
   "source": [
    "#lucris_xlsx = os.path.join( 'Sept2022' , 'LUCRIS2.xlsx' ) \n",
    "lucris = pd.read_excel('LUCRIS_Oct2023.xlsx')\n",
    "lucris = lucris.drop_duplicates(['email'])\n",
    "lucris['email'] = lucris['email'].str.lower()\n",
    "\n",
    "print( f'The export from LUCRIS contains data about {lucris.shape[0]} researchers.' )"
   ]
  },
  {
   "cell_type": "code",
   "execution_count": 3,
   "id": "9fab5b5a",
   "metadata": {},
   "outputs": [
    {
     "name": "stdout",
     "output_type": "stream",
     "text": [
      "3007 of the researchers in the LUCRIS export are also in the BB export.\n",
      "151 people in the BB export apparently stopped working for the UL.\n"
     ]
    }
   ],
   "source": [
    "lucris_emails = lucris['email'].to_list()\n",
    "\n",
    "overlap = bb[ bb['email'].isin(lucris_emails) ]\n",
    "missing = bb[ ~bb['email'].isin(lucris_emails) ]\n",
    "\n",
    "print(f'{overlap.shape[0]} of the researchers in the LUCRIS export are also in the BB export.')\n",
    "print(f'{missing.shape[0]} people in the BB export apparently stopped working for the UL.')\n",
    "\n",
    "missing.to_csv('researchers_not_in_lucris.csv')"
   ]
  },
  {
   "cell_type": "markdown",
   "id": "3cda0215",
   "metadata": {},
   "source": [
    "The script creates dictionaries to connect the emails to the full names (i.e. combination of first and last names)"
   ]
  },
  {
   "cell_type": "code",
   "execution_count": 4,
   "id": "ff894315",
   "metadata": {},
   "outputs": [],
   "source": [
    "## find all emails, first names and last names\n",
    "\n",
    "lucris_users = pd.read_csv('user_manager_export.csv')\n",
    "\n",
    "first_name_dict = dict()\n",
    "last_name_dict = dict()\n",
    "\n",
    "for i,p in lucris_users.iterrows():\n",
    "    email = str(p['Email']).strip()\n",
    "    fn = str(p['First name']).strip()\n",
    "    ln = str(p['Last name']).strip()\n",
    "    first_name_dict[email] = fn\n",
    "    last_name_dict[email] = ln\n"
   ]
  },
  {
   "cell_type": "code",
   "execution_count": 5,
   "id": "0c017f19",
   "metadata": {},
   "outputs": [],
   "source": [
    "names_initials = dict()\n",
    "\n",
    "for i,p in bb.iterrows():\n",
    "    email = str(p['email']).strip()\n",
    "    names_initials[email] = p['Medewerker'].strip()"
   ]
  },
  {
   "cell_type": "markdown",
   "id": "e4833ebb",
   "metadata": {},
   "source": [
    "Code to standardise the institute names. The institute names have not been used consistently in the BB export. "
   ]
  },
  {
   "cell_type": "code",
   "execution_count": 6,
   "id": "c7503ea6",
   "metadata": {},
   "outputs": [],
   "source": [
    "# List of institute names\n",
    "institutes = ['Biology', 'Chemistry', 'Computer Science', 'Mathematical Institute', 'LACDR', 'Physics', 'Astronomy', 'Public Administration', 'Global Affairs', 'Leiden University College',  'African Studies Centre Leiden', 'Milieuwetenschappen', 'Anthropology', 'Psychology', 'Pedagogische Wetenschappen', 'Politicologie', 'ICLON', 'CWTS',  'Performing Arts', 'LUCAS', 'History', 'LIAS', 'LUCL', 'Philosophy', 'Archaeology', 'Publiekrecht', 'Fiscale En Economische Vakken', 'Metajuridica', 'Privaatrecht', 'Strafrecht' ]"
   ]
  },
  {
   "cell_type": "code",
   "execution_count": 7,
   "id": "bb079f07",
   "metadata": {},
   "outputs": [],
   "source": [
    "\n",
    "def replace_value(old,new):\n",
    "    bb.loc[bb['Instituut'] == old, 'Instituut'] = new\n",
    "\n",
    "replace_value('Geschiedenis' , 'History')\n",
    "replace_value('Sterrewacht' , 'Astronomy')\n",
    "replace_value('LIACS' , 'Computer Science')\n",
    "replace_value('MI' , 'Mathematical Institute')\n",
    "replace_value('Mathematisch Instituut' , 'Mathematical Institute')\n",
    "replace_value('World Arch.' , 'Archaeology')\n",
    "replace_value('Arch. Sciences' , 'Archaeology')\n",
    "replace_value('Arch. Heritage' , 'Archaeology')\n",
    "replace_value('Archeologie' , 'Archaeology')\n",
    "replace_value('Wijsbegeerte' , 'Philosophy')\n",
    "replace_value('ASC','African Studies Centre Leiden' )\n",
    "replace_value('Psychologie ','Psychology')\n",
    "replace_value('IIAS','LIAS')\n",
    "replace_value('Intern. Studies','LIAS')\n",
    "replace_value('NIMAR','LIAS')\n",
    "replace_value('Area Studies ','LIAS')\n",
    "replace_value('CML','Milieuwetenschappen')\n",
    "replace_value('LIC','Chemistry')\n",
    "replace_value('Chemisch Onderzoek','Chemistry')\n",
    "replace_value('NeCEN','Biology')\n",
    "replace_value('Biologie','Biology')\n",
    "replace_value('Fiscaal-econom','Fiscale En Economische Vakken')\n",
    "replace_value('Fiscale en Economische vakken','Fiscale En Economische Vakken')\n",
    "replace_value('LION','Physics')\n",
    "replace_value('Natuurkunde','Physics')\n",
    "replace_value('Lucas','LUCAS')\n",
    "replace_value('Cwts','CWTS')\n",
    "replace_value('IBL','Biology')\n",
    "replace_value('SGA','Global Affairs')\n",
    "replace_value('Security and Global Affairs','Global Affairs')\n",
    "replace_value('BSK','Public Administration')\n",
    "replace_value('Bestuurskunde','Public Administration')\n",
    "replace_value('LUC','Leiden University College')\n",
    "replace_value('Kunsten','Performing Arts')\n",
    "replace_value('CA/OS','Anthropology')\n",
    "replace_value('Culturele Antropologie / OS','Anthropology')\n",
    "replace_value('DPC','Dual Phd')\n",
    "replace_value('Pedagogiek','Pedagogische Wetenschappen')\n",
    "replace_value('VO','ICLON')\n",
    "replace_value('HO','ICLON')\n",
    "replace_value('Onderzoek','ICLON')\n",
    "replace_value('FBS','Global Affairs')\n",
    "replace_value('Linguistics','LUCL')\n",
    "replace_value('Wetenschap en Technologie Studies','CWTS')\n",
    "replace_value('Strafrecht en Criminologie','Strafrecht')\n",
    "replace_value('Advanced Computer Science','Computer Science')\n",
    "replace_value('Leiden University College The Hague','Leiden University College')\n",
    "replace_value('UCL','Leiden University College')\n",
    "replace_value('Politieke Wetenschap','Politicologie')\n",
    "replace_value('Drug Research','LACDR')\n",
    "replace_value('ASCL','African Studies Centre Leiden')\n",
    "replace_value('Arts in Society','LUCAS')\n",
    "\n"
   ]
  },
  {
   "cell_type": "code",
   "execution_count": 8,
   "id": "f00613c3",
   "metadata": {},
   "outputs": [
    {
     "name": "stdout",
     "output_type": "stream",
     "text": [
      "Overig\n",
      "Bestuursbureau\n",
      "Honours Academy\n"
     ]
    }
   ],
   "source": [
    "## test if we are not missing any institutes\n",
    "\n",
    "institutes_bb = list( set( bb['Instituut'].tolist() ) )\n",
    "\n",
    "for i in institutes_bb:\n",
    "    if i not in institutes:\n",
    "        print(i)"
   ]
  },
  {
   "cell_type": "markdown",
   "id": "071378ad",
   "metadata": {},
   "source": [
    "Researchers are linked to ORCID ids using their email. This is taken from LUCRIS"
   ]
  },
  {
   "cell_type": "code",
   "execution_count": 9,
   "id": "b05a5797",
   "metadata": {},
   "outputs": [],
   "source": [
    "## find names and emails in LUCRIS.xlxs\n",
    "orcids = dict()\n",
    "\n",
    "for i,p in lucris.iterrows():\n",
    "    email = str(p['email']).strip().lower()\n",
    "    orcid_id = str(p['ORCID']).strip().lower() \n",
    "    orcids[email] = orcid_id"
   ]
  },
  {
   "cell_type": "markdown",
   "id": "c7b5fc98",
   "metadata": {},
   "source": [
    "We now have information on the full names and the ORCID ids from LUCRIS. This information is used to calculate percentages of researchers who have reguistered their ORCID is in LUCRIS. \n",
    "\n",
    "* 'orcid.csv' contains data about the percentages per institute. \n",
    "* 'no_orcis.csv' has information about the researchers without an ORCID ID in LUCRIS. The data set includes Institute, email and Full name. \n",
    "* 'names.csv' has the names and the emails of the registered researchers."
   ]
  },
  {
   "cell_type": "code",
   "execution_count": 10,
   "id": "6d98a1a1",
   "metadata": {},
   "outputs": [],
   "source": [
    "import re\n",
    "\n",
    "def percentage(number):\n",
    "    total_rounded = (number) * 100\n",
    "    return round(total_rounded,2)\n",
    "\n",
    "out = open('orcid.csv' , 'w')\n",
    "out2 = open('no_orcid.csv' , 'w')\n",
    "out3 = open( 'names.csv' , 'w' )\n",
    "\n",
    "out.write('Institute,#Orcid,#Researchers,Percentage\\n')\n",
    "out2.write('institute,email,first_name,last_name\\n')\n",
    "\n",
    "total_ul_researchers = 0\n",
    "total_ul_orcid = 0\n",
    "\n",
    "for inst in institutes:\n",
    "    out.write(f'\\n{inst},')\n",
    "    researchers = bb[ bb['Instituut'] == inst ]\n",
    "    count_orcids = 0\n",
    "    total = 0\n",
    "    \n",
    "    for i,row in researchers.iterrows():\n",
    "        \n",
    "        email = str(row['email']).strip()\n",
    "        orcid = orcids.get(email,'')\n",
    "        \n",
    "        \n",
    "        if email in last_name_dict and email in first_name_dict:\n",
    "            first_name = first_name_dict[email]\n",
    "            last_name = last_name_dict[email]\n",
    "        else:\n",
    "            full_name = email[ : email.index('@') ]\n",
    "            if re.search( r'\\.' , full_name):\n",
    "                first_name = full_name[ : full_name.rindex('.')]\n",
    "                last_name = full_name[ full_name.rindex('.')+1:]\n",
    "            else:\n",
    "                first_name = ''\n",
    "                last_name = full_name\n",
    "            \n",
    "        \n",
    "        try:\n",
    "\n",
    "            if re.search( r'\\d+' , orcid ):\n",
    "                count_orcids += 1\n",
    "                total_ul_orcid += 1\n",
    "                out3.write(f\"{inst},{email},{first_name},{last_name},{orcid}\\n\")\n",
    "            else:\n",
    "                out2.write(f\"{inst},{email},{first_name},{last_name}\\n\")\n",
    "\n",
    "\n",
    "            \n",
    "            total += 1\n",
    "            total_ul_researchers += 1\n",
    "            \n",
    "        except:\n",
    "            print(f'Problem for {email}: Not in LUCRIS export')\n",
    "\n",
    "            \n",
    "        \n",
    "    if total>0:\n",
    "        out.write( f'{count_orcids},{total},{percentage(count_orcids/total)}' )\n",
    "\n",
    "out.write( f'\\nUL,{total_ul_orcid},{total_ul_researchers},{percentage(total_ul_orcid/total_ul_researchers)}' )            \n",
    "\n",
    "out.close()\n",
    "out2.close()\n",
    "out3.close()\n"
   ]
  },
  {
   "cell_type": "code",
   "execution_count": 11,
   "id": "d982c793",
   "metadata": {},
   "outputs": [
    {
     "name": "stdout",
     "output_type": "stream",
     "text": [
      "Slabbekoorn\n",
      "Hans Slabbekoorn (Biology)\n",
      "https://pub.orcid.org/v2.1/search?q=family-name:slabbekoorn+AND+given-names:hans\n"
     ]
    },
    {
     "ename": "HTTPError",
     "evalue": "HTTP Error 503: Service Unavailable",
     "output_type": "error",
     "traceback": [
      "\u001b[0;31m---------------------------------------------------------------------------\u001b[0m",
      "\u001b[0;31mHTTPError\u001b[0m                                 Traceback (most recent call last)",
      "\u001b[0;32m/var/folders/nf/35gdwksd0fx8kzbsljz4dz6hnrcnxq/T/ipykernel_69314/2347527511.py\u001b[0m in \u001b[0;36m<module>\u001b[0;34m\u001b[0m\n\u001b[1;32m    111\u001b[0m \u001b[0;34m\u001b[0m\u001b[0m\n\u001b[1;32m    112\u001b[0m             \u001b[0mprint\u001b[0m\u001b[0;34m(\u001b[0m \u001b[0mfirst_name\u001b[0m \u001b[0;34m,\u001b[0m \u001b[0mcolumn\u001b[0m\u001b[0;34m[\u001b[0m\u001b[0;34m'last_name'\u001b[0m\u001b[0;34m]\u001b[0m \u001b[0;34m,\u001b[0m \u001b[0;34mf'({column[\"institute\"].strip()})'\u001b[0m\u001b[0;34m)\u001b[0m\u001b[0;34m\u001b[0m\u001b[0;34m\u001b[0m\u001b[0m\n\u001b[0;32m--> 113\u001b[0;31m             \u001b[0mout\u001b[0m\u001b[0;34m.\u001b[0m\u001b[0mwrite\u001b[0m\u001b[0;34m(\u001b[0m \u001b[0mgetData\u001b[0m\u001b[0;34m(\u001b[0m \u001b[0murllib\u001b[0m\u001b[0;34m.\u001b[0m\u001b[0mparse\u001b[0m\u001b[0;34m.\u001b[0m\u001b[0mquote\u001b[0m\u001b[0;34m(\u001b[0m \u001b[0mfirst_name\u001b[0m \u001b[0;34m)\u001b[0m  \u001b[0;34m,\u001b[0m \u001b[0murllib\u001b[0m\u001b[0;34m.\u001b[0m\u001b[0mparse\u001b[0m\u001b[0;34m.\u001b[0m\u001b[0mquote\u001b[0m\u001b[0;34m(\u001b[0m \u001b[0mcolumn\u001b[0m\u001b[0;34m[\u001b[0m\u001b[0;34m'last_name'\u001b[0m\u001b[0;34m]\u001b[0m  \u001b[0;34m)\u001b[0m \u001b[0;34m,\u001b[0m \u001b[0mcolumn\u001b[0m\u001b[0;34m[\u001b[0m\u001b[0;34m'institute'\u001b[0m\u001b[0;34m]\u001b[0m \u001b[0;34m,\u001b[0m \u001b[0mcolumn\u001b[0m\u001b[0;34m[\u001b[0m\u001b[0;34m'email'\u001b[0m\u001b[0;34m]\u001b[0m\u001b[0;34m)\u001b[0m \u001b[0;34m)\u001b[0m\u001b[0;34m\u001b[0m\u001b[0;34m\u001b[0m\u001b[0m\n\u001b[0m\u001b[1;32m    114\u001b[0m \u001b[0;34m\u001b[0m\u001b[0m\n\u001b[1;32m    115\u001b[0m \u001b[0mout\u001b[0m\u001b[0;34m.\u001b[0m\u001b[0mclose\u001b[0m\u001b[0;34m(\u001b[0m\u001b[0;34m)\u001b[0m\u001b[0;34m\u001b[0m\u001b[0;34m\u001b[0m\u001b[0m\n",
      "\u001b[0;32m/var/folders/nf/35gdwksd0fx8kzbsljz4dz6hnrcnxq/T/ipykernel_69314/2347527511.py\u001b[0m in \u001b[0;36mgetData\u001b[0;34m(firstName, lastName, institute, email)\u001b[0m\n\u001b[1;32m     35\u001b[0m     \u001b[0mprint\u001b[0m\u001b[0;34m(\u001b[0m\u001b[0mquery\u001b[0m\u001b[0;34m)\u001b[0m\u001b[0;34m\u001b[0m\u001b[0;34m\u001b[0m\u001b[0m\n\u001b[1;32m     36\u001b[0m \u001b[0;34m\u001b[0m\u001b[0m\n\u001b[0;32m---> 37\u001b[0;31m     \u001b[0mroot\u001b[0m \u001b[0;34m=\u001b[0m \u001b[0mgetTree\u001b[0m\u001b[0;34m(\u001b[0m \u001b[0mquery\u001b[0m \u001b[0;34m)\u001b[0m\u001b[0;34m\u001b[0m\u001b[0;34m\u001b[0m\u001b[0m\n\u001b[0m\u001b[1;32m     38\u001b[0m     \u001b[0mhits\u001b[0m \u001b[0;34m=\u001b[0m \u001b[0mroot\u001b[0m\u001b[0;34m.\u001b[0m\u001b[0mfindall\u001b[0m\u001b[0;34m(\u001b[0m\u001b[0;34m's:result'\u001b[0m \u001b[0;34m,\u001b[0m \u001b[0mns\u001b[0m \u001b[0;34m)\u001b[0m\u001b[0;34m\u001b[0m\u001b[0;34m\u001b[0m\u001b[0m\n\u001b[1;32m     39\u001b[0m \u001b[0;34m\u001b[0m\u001b[0m\n",
      "\u001b[0;32m~/Documents/CDS/ORCID/Overzicht/orcidData.py\u001b[0m in \u001b[0;36mgetTree\u001b[0;34m(url)\u001b[0m\n\u001b[1;32m     17\u001b[0m \u001b[0;34m\u001b[0m\u001b[0m\n\u001b[1;32m     18\u001b[0m \u001b[0;32mdef\u001b[0m \u001b[0mgetTree\u001b[0m\u001b[0;34m(\u001b[0m \u001b[0murl\u001b[0m\u001b[0;34m)\u001b[0m\u001b[0;34m:\u001b[0m\u001b[0;34m\u001b[0m\u001b[0;34m\u001b[0m\u001b[0m\n\u001b[0;32m---> 19\u001b[0;31m     \u001b[0mfp\u001b[0m \u001b[0;34m=\u001b[0m \u001b[0murllib\u001b[0m\u001b[0;34m.\u001b[0m\u001b[0mrequest\u001b[0m\u001b[0;34m.\u001b[0m\u001b[0murlopen\u001b[0m\u001b[0;34m(\u001b[0m \u001b[0murl\u001b[0m \u001b[0;34m)\u001b[0m\u001b[0;34m\u001b[0m\u001b[0;34m\u001b[0m\u001b[0m\n\u001b[0m\u001b[1;32m     20\u001b[0m     \u001b[0mmybytes\u001b[0m \u001b[0;34m=\u001b[0m \u001b[0mfp\u001b[0m\u001b[0;34m.\u001b[0m\u001b[0mread\u001b[0m\u001b[0;34m(\u001b[0m\u001b[0;34m)\u001b[0m\u001b[0;34m\u001b[0m\u001b[0;34m\u001b[0m\u001b[0m\n\u001b[1;32m     21\u001b[0m     \u001b[0mxml\u001b[0m \u001b[0;34m=\u001b[0m \u001b[0mmybytes\u001b[0m\u001b[0;34m.\u001b[0m\u001b[0mdecode\u001b[0m\u001b[0;34m(\u001b[0m\u001b[0;34m\"utf8\"\u001b[0m\u001b[0;34m)\u001b[0m\u001b[0;34m\u001b[0m\u001b[0;34m\u001b[0m\u001b[0m\n",
      "\u001b[0;32m/Library/Frameworks/Python.framework/Versions/3.7/lib/python3.7/urllib/request.py\u001b[0m in \u001b[0;36murlopen\u001b[0;34m(url, data, timeout, cafile, capath, cadefault, context)\u001b[0m\n\u001b[1;32m    220\u001b[0m     \u001b[0;32melse\u001b[0m\u001b[0;34m:\u001b[0m\u001b[0;34m\u001b[0m\u001b[0;34m\u001b[0m\u001b[0m\n\u001b[1;32m    221\u001b[0m         \u001b[0mopener\u001b[0m \u001b[0;34m=\u001b[0m \u001b[0m_opener\u001b[0m\u001b[0;34m\u001b[0m\u001b[0;34m\u001b[0m\u001b[0m\n\u001b[0;32m--> 222\u001b[0;31m     \u001b[0;32mreturn\u001b[0m \u001b[0mopener\u001b[0m\u001b[0;34m.\u001b[0m\u001b[0mopen\u001b[0m\u001b[0;34m(\u001b[0m\u001b[0murl\u001b[0m\u001b[0;34m,\u001b[0m \u001b[0mdata\u001b[0m\u001b[0;34m,\u001b[0m \u001b[0mtimeout\u001b[0m\u001b[0;34m)\u001b[0m\u001b[0;34m\u001b[0m\u001b[0;34m\u001b[0m\u001b[0m\n\u001b[0m\u001b[1;32m    223\u001b[0m \u001b[0;34m\u001b[0m\u001b[0m\n\u001b[1;32m    224\u001b[0m \u001b[0;32mdef\u001b[0m \u001b[0minstall_opener\u001b[0m\u001b[0;34m(\u001b[0m\u001b[0mopener\u001b[0m\u001b[0;34m)\u001b[0m\u001b[0;34m:\u001b[0m\u001b[0;34m\u001b[0m\u001b[0;34m\u001b[0m\u001b[0m\n",
      "\u001b[0;32m/Library/Frameworks/Python.framework/Versions/3.7/lib/python3.7/urllib/request.py\u001b[0m in \u001b[0;36mopen\u001b[0;34m(self, fullurl, data, timeout)\u001b[0m\n\u001b[1;32m    529\u001b[0m         \u001b[0;32mfor\u001b[0m \u001b[0mprocessor\u001b[0m \u001b[0;32min\u001b[0m \u001b[0mself\u001b[0m\u001b[0;34m.\u001b[0m\u001b[0mprocess_response\u001b[0m\u001b[0;34m.\u001b[0m\u001b[0mget\u001b[0m\u001b[0;34m(\u001b[0m\u001b[0mprotocol\u001b[0m\u001b[0;34m,\u001b[0m \u001b[0;34m[\u001b[0m\u001b[0;34m]\u001b[0m\u001b[0;34m)\u001b[0m\u001b[0;34m:\u001b[0m\u001b[0;34m\u001b[0m\u001b[0;34m\u001b[0m\u001b[0m\n\u001b[1;32m    530\u001b[0m             \u001b[0mmeth\u001b[0m \u001b[0;34m=\u001b[0m \u001b[0mgetattr\u001b[0m\u001b[0;34m(\u001b[0m\u001b[0mprocessor\u001b[0m\u001b[0;34m,\u001b[0m \u001b[0mmeth_name\u001b[0m\u001b[0;34m)\u001b[0m\u001b[0;34m\u001b[0m\u001b[0;34m\u001b[0m\u001b[0m\n\u001b[0;32m--> 531\u001b[0;31m             \u001b[0mresponse\u001b[0m \u001b[0;34m=\u001b[0m \u001b[0mmeth\u001b[0m\u001b[0;34m(\u001b[0m\u001b[0mreq\u001b[0m\u001b[0;34m,\u001b[0m \u001b[0mresponse\u001b[0m\u001b[0;34m)\u001b[0m\u001b[0;34m\u001b[0m\u001b[0;34m\u001b[0m\u001b[0m\n\u001b[0m\u001b[1;32m    532\u001b[0m \u001b[0;34m\u001b[0m\u001b[0m\n\u001b[1;32m    533\u001b[0m         \u001b[0;32mreturn\u001b[0m \u001b[0mresponse\u001b[0m\u001b[0;34m\u001b[0m\u001b[0;34m\u001b[0m\u001b[0m\n",
      "\u001b[0;32m/Library/Frameworks/Python.framework/Versions/3.7/lib/python3.7/urllib/request.py\u001b[0m in \u001b[0;36mhttp_response\u001b[0;34m(self, request, response)\u001b[0m\n\u001b[1;32m    639\u001b[0m         \u001b[0;32mif\u001b[0m \u001b[0;32mnot\u001b[0m \u001b[0;34m(\u001b[0m\u001b[0;36m200\u001b[0m \u001b[0;34m<=\u001b[0m \u001b[0mcode\u001b[0m \u001b[0;34m<\u001b[0m \u001b[0;36m300\u001b[0m\u001b[0;34m)\u001b[0m\u001b[0;34m:\u001b[0m\u001b[0;34m\u001b[0m\u001b[0;34m\u001b[0m\u001b[0m\n\u001b[1;32m    640\u001b[0m             response = self.parent.error(\n\u001b[0;32m--> 641\u001b[0;31m                 'http', request, response, code, msg, hdrs)\n\u001b[0m\u001b[1;32m    642\u001b[0m \u001b[0;34m\u001b[0m\u001b[0m\n\u001b[1;32m    643\u001b[0m         \u001b[0;32mreturn\u001b[0m \u001b[0mresponse\u001b[0m\u001b[0;34m\u001b[0m\u001b[0;34m\u001b[0m\u001b[0m\n",
      "\u001b[0;32m/Library/Frameworks/Python.framework/Versions/3.7/lib/python3.7/urllib/request.py\u001b[0m in \u001b[0;36merror\u001b[0;34m(self, proto, *args)\u001b[0m\n\u001b[1;32m    567\u001b[0m         \u001b[0;32mif\u001b[0m \u001b[0mhttp_err\u001b[0m\u001b[0;34m:\u001b[0m\u001b[0;34m\u001b[0m\u001b[0;34m\u001b[0m\u001b[0m\n\u001b[1;32m    568\u001b[0m             \u001b[0margs\u001b[0m \u001b[0;34m=\u001b[0m \u001b[0;34m(\u001b[0m\u001b[0mdict\u001b[0m\u001b[0;34m,\u001b[0m \u001b[0;34m'default'\u001b[0m\u001b[0;34m,\u001b[0m \u001b[0;34m'http_error_default'\u001b[0m\u001b[0;34m)\u001b[0m \u001b[0;34m+\u001b[0m \u001b[0morig_args\u001b[0m\u001b[0;34m\u001b[0m\u001b[0;34m\u001b[0m\u001b[0m\n\u001b[0;32m--> 569\u001b[0;31m             \u001b[0;32mreturn\u001b[0m \u001b[0mself\u001b[0m\u001b[0;34m.\u001b[0m\u001b[0m_call_chain\u001b[0m\u001b[0;34m(\u001b[0m\u001b[0;34m*\u001b[0m\u001b[0margs\u001b[0m\u001b[0;34m)\u001b[0m\u001b[0;34m\u001b[0m\u001b[0;34m\u001b[0m\u001b[0m\n\u001b[0m\u001b[1;32m    570\u001b[0m \u001b[0;34m\u001b[0m\u001b[0m\n\u001b[1;32m    571\u001b[0m \u001b[0;31m# XXX probably also want an abstract factory that knows when it makes\u001b[0m\u001b[0;34m\u001b[0m\u001b[0;34m\u001b[0m\u001b[0;34m\u001b[0m\u001b[0m\n",
      "\u001b[0;32m/Library/Frameworks/Python.framework/Versions/3.7/lib/python3.7/urllib/request.py\u001b[0m in \u001b[0;36m_call_chain\u001b[0;34m(self, chain, kind, meth_name, *args)\u001b[0m\n\u001b[1;32m    501\u001b[0m         \u001b[0;32mfor\u001b[0m \u001b[0mhandler\u001b[0m \u001b[0;32min\u001b[0m \u001b[0mhandlers\u001b[0m\u001b[0;34m:\u001b[0m\u001b[0;34m\u001b[0m\u001b[0;34m\u001b[0m\u001b[0m\n\u001b[1;32m    502\u001b[0m             \u001b[0mfunc\u001b[0m \u001b[0;34m=\u001b[0m \u001b[0mgetattr\u001b[0m\u001b[0;34m(\u001b[0m\u001b[0mhandler\u001b[0m\u001b[0;34m,\u001b[0m \u001b[0mmeth_name\u001b[0m\u001b[0;34m)\u001b[0m\u001b[0;34m\u001b[0m\u001b[0;34m\u001b[0m\u001b[0m\n\u001b[0;32m--> 503\u001b[0;31m             \u001b[0mresult\u001b[0m \u001b[0;34m=\u001b[0m \u001b[0mfunc\u001b[0m\u001b[0;34m(\u001b[0m\u001b[0;34m*\u001b[0m\u001b[0margs\u001b[0m\u001b[0;34m)\u001b[0m\u001b[0;34m\u001b[0m\u001b[0;34m\u001b[0m\u001b[0m\n\u001b[0m\u001b[1;32m    504\u001b[0m             \u001b[0;32mif\u001b[0m \u001b[0mresult\u001b[0m \u001b[0;32mis\u001b[0m \u001b[0;32mnot\u001b[0m \u001b[0;32mNone\u001b[0m\u001b[0;34m:\u001b[0m\u001b[0;34m\u001b[0m\u001b[0;34m\u001b[0m\u001b[0m\n\u001b[1;32m    505\u001b[0m                 \u001b[0;32mreturn\u001b[0m \u001b[0mresult\u001b[0m\u001b[0;34m\u001b[0m\u001b[0;34m\u001b[0m\u001b[0m\n",
      "\u001b[0;32m/Library/Frameworks/Python.framework/Versions/3.7/lib/python3.7/urllib/request.py\u001b[0m in \u001b[0;36mhttp_error_default\u001b[0;34m(self, req, fp, code, msg, hdrs)\u001b[0m\n\u001b[1;32m    647\u001b[0m \u001b[0;32mclass\u001b[0m \u001b[0mHTTPDefaultErrorHandler\u001b[0m\u001b[0;34m(\u001b[0m\u001b[0mBaseHandler\u001b[0m\u001b[0;34m)\u001b[0m\u001b[0;34m:\u001b[0m\u001b[0;34m\u001b[0m\u001b[0;34m\u001b[0m\u001b[0m\n\u001b[1;32m    648\u001b[0m     \u001b[0;32mdef\u001b[0m \u001b[0mhttp_error_default\u001b[0m\u001b[0;34m(\u001b[0m\u001b[0mself\u001b[0m\u001b[0;34m,\u001b[0m \u001b[0mreq\u001b[0m\u001b[0;34m,\u001b[0m \u001b[0mfp\u001b[0m\u001b[0;34m,\u001b[0m \u001b[0mcode\u001b[0m\u001b[0;34m,\u001b[0m \u001b[0mmsg\u001b[0m\u001b[0;34m,\u001b[0m \u001b[0mhdrs\u001b[0m\u001b[0;34m)\u001b[0m\u001b[0;34m:\u001b[0m\u001b[0;34m\u001b[0m\u001b[0;34m\u001b[0m\u001b[0m\n\u001b[0;32m--> 649\u001b[0;31m         \u001b[0;32mraise\u001b[0m \u001b[0mHTTPError\u001b[0m\u001b[0;34m(\u001b[0m\u001b[0mreq\u001b[0m\u001b[0;34m.\u001b[0m\u001b[0mfull_url\u001b[0m\u001b[0;34m,\u001b[0m \u001b[0mcode\u001b[0m\u001b[0;34m,\u001b[0m \u001b[0mmsg\u001b[0m\u001b[0;34m,\u001b[0m \u001b[0mhdrs\u001b[0m\u001b[0;34m,\u001b[0m \u001b[0mfp\u001b[0m\u001b[0;34m)\u001b[0m\u001b[0;34m\u001b[0m\u001b[0;34m\u001b[0m\u001b[0m\n\u001b[0m\u001b[1;32m    650\u001b[0m \u001b[0;34m\u001b[0m\u001b[0m\n\u001b[1;32m    651\u001b[0m \u001b[0;32mclass\u001b[0m \u001b[0mHTTPRedirectHandler\u001b[0m\u001b[0;34m(\u001b[0m\u001b[0mBaseHandler\u001b[0m\u001b[0;34m)\u001b[0m\u001b[0;34m:\u001b[0m\u001b[0;34m\u001b[0m\u001b[0;34m\u001b[0m\u001b[0m\n",
      "\u001b[0;31mHTTPError\u001b[0m: HTTP Error 503: Service Unavailable"
     ]
    }
   ],
   "source": [
    "import urllib.request\n",
    "import urllib.parse\n",
    "import xml.etree.ElementTree as ET\n",
    "import re\n",
    "import pandas as pd\n",
    "from orcidData import *\n",
    "import os\n",
    "\n",
    "import ssl                                        \n",
    "openssl_dir, openssl_cafile = os.path.split(      \n",
    "    ssl.get_default_verify_paths().openssl_cafile)\n",
    "\n",
    "\n",
    "import ssl\n",
    "ssl._create_default_https_context = ssl._create_unverified_context\n",
    "\n",
    "ns = {'o': 'http://www.orcid.org/ns/orcid' ,\n",
    "'s' : 'http://www.orcid.org/ns/search' ,\n",
    "'h': 'http://www.orcid.org/ns/history' ,\n",
    "'p': 'http://www.orcid.org/ns/person' ,\n",
    "'pd': 'http://www.orcid.org/ns/personal-details' ,\n",
    "'a': 'http://www.orcid.org/ns/activities' ,\n",
    "'e': 'http://www.orcid.org/ns/employment' ,\n",
    "'c': 'http://www.orcid.org/ns/common' }\n",
    "\n",
    "\n",
    "def getData( firstName , lastName , institute, email ):\n",
    "\n",
    "\n",
    "    queryName = firstName + ' ' + lastName\n",
    "    \n",
    "    fullOutput = ''\n",
    "\n",
    "    query = f'https://pub.orcid.org/v2.1/search?q=family-name:{ urlEncode(lastName) }+AND+given-names:{ urlEncode(firstName) }'\n",
    "    print(query)\n",
    "\n",
    "    root = getTree( query )\n",
    "    hits = root.findall('s:result' , ns )\n",
    "\n",
    "\n",
    "    if len(hits) == 0:\n",
    "        queryName = urlEncode( queryName )\n",
    "        query = \"https://pub.orcid.org/v3.0/search?q=\" + queryName\n",
    "        root = getTree( query )\n",
    "        hits = root.findall('s:result' , ns )\n",
    "\n",
    "    count = 0\n",
    "    for result in hits:\n",
    "        try: \n",
    "            count += 1\n",
    "\n",
    "            data = dict()\n",
    "            orcidId = result.find('c:orcid-identifier/c:path' , ns ).text\n",
    "            orcidUrl = \"https://pub.orcid.org/v3.0/\" + orcidId +  \"/record\"\n",
    "            xml = getTree( orcidUrl )\n",
    "\n",
    "            data['lastName'] = getLastName( xml )\n",
    "            data['firstName'] = getFirstName( xml )\n",
    "            data['creationDate'] = getCreationDate( xml )\n",
    "            data['nrWorks'] = getNumberOfWorks( xml )\n",
    "            aff = getAffiliations( xml )\n",
    "\n",
    "            fullOutput += f\"{ lastName }\\t\"\n",
    "            fullOutput += f\"{ firstName }\\t\"\n",
    "\n",
    "            fullOutput += f\"{ institute }\\t\"\n",
    "            fullOutput += f\"{ email}\\t\"\n",
    "\n",
    "            institute, email\n",
    "            fullOutput += f\"{ orcidId }\\t\"\n",
    "            fullOutput += f\"{ data.get('lastName' , '' ) }\\t\"\n",
    "            fullOutput += f\"{ data.get('firstName' , '' ) }\\t\"\n",
    "            fullOutput += f\"{ data.get('creationDate' , '' ) }\\t\"\n",
    "            fullOutput += f\"{ data.get('nrWorks' , '' ) }\\t\"\n",
    "\n",
    "            if len(aff) > 0:\n",
    "                fullOutput += f\"{ aff[0][0] }\\t\"\n",
    "                fullOutput += f\"{ aff[0][1] }\\t\"\n",
    "            else:\n",
    "                fullOutput += '\\t\\t'\n",
    "\n",
    "            if len(aff) > 1:\n",
    "                fullOutput += f\"{ aff[1][0] }\\t\"\n",
    "                fullOutput += f\"{ aff[1][1] }\\n\"\n",
    "            else:\n",
    "                fullOutput += ',\\n'\n",
    "            if count == 3:\n",
    "                break\n",
    "\n",
    "        \n",
    "        except:\n",
    "            print(f'Problem with {lastName} {firstName}')\n",
    "    return fullOutput\n",
    "\n",
    "\n",
    "out = open( 'researchers_not_registered.tsv' , 'w' )\n",
    "out.write( 'lastName\\tfirstName\\tinstitute\\temail\\torcid\\tOrcidlastName\\tOrcidfirstName\\tcreationDate\\tnrWorks\\torganisation1\\tdepartment1\\torganisation2\\tdepartment2\\n' )\n",
    "\n",
    "\n",
    "\n",
    "df = pd.read_csv( 'no_orcid.csv'  )\n",
    "for index , column in df.iterrows():\n",
    "    if index>=0:\n",
    "        print(column['last_name'])\n",
    "        if pd.notnull( column['last_name']) and pd.notnull( column['first_name']):\n",
    "\n",
    "            if pd.isnull( column['first_name'] ):\n",
    "                first_name = 'a'\n",
    "            else:\n",
    "                first_name = column['first_name']\n",
    "\n",
    "            print( first_name , column['last_name'] , f'({column[\"institute\"].strip()})')\n",
    "            out.write( getData( urllib.parse.quote( first_name )  , urllib.parse.quote( column['last_name']  ) , column['institute'] , column['email']) )\n",
    "\n",
    "out.close()\n"
   ]
  },
  {
   "cell_type": "code",
   "execution_count": null,
   "id": "9e63625f",
   "metadata": {},
   "outputs": [],
   "source": [
    "nr = pd.read_csv('researchers_not_registered.tsv' , sep='\\t')\n",
    "nr.columns"
   ]
  },
  {
   "cell_type": "code",
   "execution_count": null,
   "id": "868b1cb2",
   "metadata": {},
   "outputs": [],
   "source": []
  },
  {
   "cell_type": "code",
   "execution_count": null,
   "id": "749a18f6",
   "metadata": {},
   "outputs": [],
   "source": [
    "     \n",
    "out = open('nr_leiden.csv','w',encoding='utf-8')\n",
    "out2 = open('not_nr_leiden.csv','w',encoding='utf-8')\n",
    "\n",
    "out.write('lastName\\tfirstName\\tinstitute\\temail\\torcid\\tOrcidlastName\\tOrcidfirstName\\tcreationDate\\tnrWorks\\torganisation1\\tdepartment1\\torganisation2\\tdepartment2\\n')\n",
    "out2.write('lastName\\tfirstName\\tinstitute\\temail\\torcid\\tOrcidlastName\\tOrcidfirstName\\tcreationDate\\tnrWorks\\torganisation1\\tdepartment1\\torganisation2\\tdepartment2\\n')\n",
    "\n",
    "\n",
    "for i,row in nr.iterrows():\n",
    "    \n",
    "    if re.search( r'Leiden',str(row['organisation1']),re.IGNORECASE) or re.search( r'Leiden',str(row['organisation2']),re.IGNORECASE) or re.search( r'Leiden',str(row['department1']),re.IGNORECASE) or re.search( r'Leiden',str(row['department2']),re.IGNORECASE):\n",
    "        all_values = row.tolist()\n",
    "        for value in all_values:\n",
    "            out.write(f'{value}\\t')\n",
    "        out.write('\\n')\n",
    "    elif row['lastName'] == row['OrcidlastName'] and row['firstName'] == row['OrcidfirstName']:\n",
    "        all_values = row.tolist()\n",
    "        for value in all_values:\n",
    "            out.write(f'{value}\\t')\n",
    "        out.write('\\n')  \n",
    "    else:\n",
    "        all_values = row.tolist()\n",
    "        for value in all_values:\n",
    "            out2.write(f'{value}\\t')\n",
    "        out2.write('\\n')\n",
    "\n",
    "out.close()\n",
    "out2.close()\n",
    "        "
   ]
  },
  {
   "cell_type": "markdown",
   "id": "dcafdf7c",
   "metadata": {},
   "source": [
    "Find the matches: Either an identical name, or an affiliation at Leiden. The result is saved as 'match.tsv'."
   ]
  },
  {
   "cell_type": "code",
   "execution_count": null,
   "id": "d4a334ed",
   "metadata": {},
   "outputs": [],
   "source": [
    "df = pd.read_csv('nr_leiden.csv',sep='\\t',index_col=False)\n",
    "df['full_name'] = df['firstName'] + ' ' + df['lastName']\n",
    "df = df.drop_duplicates(subset=\"full_name\")\n",
    "df.to_csv('nr_leiden_deduplicated.csv')"
   ]
  },
  {
   "cell_type": "code",
   "execution_count": null,
   "id": "cebe4238",
   "metadata": {},
   "outputs": [],
   "source": [
    "df = pd.read_csv('nr_leiden_deduplicated.csv')\n",
    "print(df.columns)\n",
    "#print(df.iloc[0])\n",
    "\n",
    "\n",
    "for inst in institutes:\n",
    "    researchers = df[ df['institute'] == inst ]\n",
    "    print(researchers.shape[0])\n"
   ]
  },
  {
   "cell_type": "code",
   "execution_count": null,
   "id": "32e22f1d",
   "metadata": {},
   "outputs": [],
   "source": []
  },
  {
   "cell_type": "code",
   "execution_count": null,
   "id": "5c5f8369",
   "metadata": {},
   "outputs": [],
   "source": [
    "matches = []\n",
    "\n",
    "out1 = open( 'match.tsv' , 'w' , encoding = 'utf-8' )\n",
    "out1.write('first_name\\tlast_name\\tinstitute\\temail\\torcid\\torcid_first\\torcid_last\\tdate\\tnr_works\\torg1\\tdept1\\torg2\\tdept2\\n')\n",
    "out2 = open( 'no_match.tsv' , 'w' , encoding = 'utf-8' )\n",
    "\n",
    "df = pd.read_csv('researchers_not_registered.csv' , sep = '\\t' )\n",
    "cols = df.columns\n",
    "for i,row in df.iterrows():\n",
    "    full_name = row['lastName'] + ' ' + row['firstName']\n",
    "    full_name = re.sub( r'\\s+' , ' ' , full_name )\n",
    "    orcid_name = f\"{row['OrcidlastName']} {row['OrcidfirstName']}\"\n",
    "    orcid_name = re.sub( r'\\s+' , ' ' , orcid_name )\n",
    "    affiliation = f\"{row['organisation1']} {row['department1']} {row['organisation2']} {row['department2']}\"\n",
    "    #print(affiliation)\n",
    "    \n",
    "    new_row = ''\n",
    "    for c in cols: \n",
    "        new_row += f'{row[c]}\\t'\n",
    "    new_row = new_row.strip()\n",
    "    \n",
    "    if full_name == orcid_name:\n",
    "        if full_name not in matches:\n",
    "            matches.append(full_name)\n",
    "            out1.write(f'{new_row}\\n')\n",
    "    elif re.search('leiden' , affiliation , re.IGNORECASE):\n",
    "        if full_name not in matches:\n",
    "            matches.append(full_name)\n",
    "            out1.write(f'{new_row}\\n')\n",
    "    else:\n",
    "        out2.write(f'{new_row}\\n')\n",
    "        \n",
    "out1.close()\n",
    "out2.close()"
   ]
  },
  {
   "cell_type": "markdown",
   "id": "b5956670",
   "metadata": {},
   "source": [
    "Totals included researchers not registered in LUCRIS"
   ]
  },
  {
   "cell_type": "code",
   "execution_count": null,
   "id": "fde6aa13",
   "metadata": {},
   "outputs": [],
   "source": [
    "df.head()"
   ]
  },
  {
   "cell_type": "code",
   "execution_count": null,
   "id": "57c572a8",
   "metadata": {},
   "outputs": [],
   "source": [
    "\n",
    "\n",
    "out = open('name_not_registered.csv' , 'w' , encoding = 'utf-8')\n",
    "out.write( 'first_name,last_name,institute,email\\n')\n",
    "        \n",
    "## print names of all researchers who have not registered in 'researchers_not_registered.csv'     \n",
    "\n",
    "df = pd.read_csv('match.tsv', sep = '\\t')          \n",
    "for i,row in df.iterrows():\n",
    "    out.write(f\"{row['first_name']},{row['last_name']},{row['institute']},{row['email']}\\n\")\n",
    "\n",
    "out.close()\n",
    "\n",
    "unregistered = dict()\n",
    "\n",
    "for inst in institutes:\n",
    "    researchers = df[ df['institute'] == inst ]\n",
    "    print(researchers.shape[0])\n",
    "    unregistered[inst] = researchers.shape[0]\n",
    "\n",
    "\n",
    "out2 = open('orcid_including_non_registered.csv' , 'w' , encoding = 'utf-8')\n",
    "\n",
    "total_ul_researchers = 0\n",
    "total_ul_orcid = 0\n",
    "\n",
    "for inst in institutes:\n",
    "    out2.write(f'\\n{inst},')\n",
    "    researchers = bb[ bb['Instituut'] == inst ]\n",
    "    total = len(researchers)\n",
    "    total_ul_researchers += total\n",
    "    count_orcids = 0\n",
    "    for i,p in researchers.iterrows():\n",
    "        \n",
    "        email = str(p['Email']).strip().lower()\n",
    "        orcid = orcids.get(email,'')\n",
    "        try:\n",
    "            if re.search( r'\\d+' , orcid ):\n",
    "                count_orcids += 1\n",
    "                total_ul_orcid += 1\n",
    "        except:\n",
    "            print(f'Problem for {email}')\n",
    "\n",
    "    count_orcids += unregistered[inst]\n",
    "    total_ul_orcid += unregistered[inst]\n",
    "    if total>0:\n",
    "        out2.write( f'{count_orcids},{total},{count_orcids/total}' )\n",
    "        \n",
    "\n",
    "out2.write( f'\\nUL,{total_ul_orcid},{total_ul_researchers},{total_ul_orcid/total_ul_researchers}' )            \n",
    "\n",
    "out2.close()\n"
   ]
  },
  {
   "cell_type": "code",
   "execution_count": null,
   "id": "b51424cb",
   "metadata": {},
   "outputs": [],
   "source": [
    "df1 = pd.read_csv('no_orcid.csv')\n",
    "df2 = pd.read_csv('match.tsv' , sep = '\\t')\n",
    "has_orcid = list(df2['email'])\n",
    "\n",
    "out = open('no_orcid_not_lucris.csv', 'w', encoding = 'utf-8')\n",
    "for i,row in df1.iterrows():\n",
    "    if row['email'] not in has_orcid:\n",
    "        out.write(row['email'])\n",
    "        out.write(',')\n",
    "        out.write(row['first_name'])\n",
    "        out.write(',')\n",
    "        out.write(row['last_name'])\n",
    "        out.write(',')\n",
    "        out.write(row['institute'])\n",
    "        out.write('\\n')\n",
    "out.close()"
   ]
  },
  {
   "cell_type": "code",
   "execution_count": null,
   "id": "f6cc6917",
   "metadata": {},
   "outputs": [],
   "source": []
  }
 ],
 "metadata": {
  "kernelspec": {
   "display_name": "Python 3 (ipykernel)",
   "language": "python",
   "name": "python3"
  },
  "language_info": {
   "codemirror_mode": {
    "name": "ipython",
    "version": 3
   },
   "file_extension": ".py",
   "mimetype": "text/x-python",
   "name": "python",
   "nbconvert_exporter": "python",
   "pygments_lexer": "ipython3",
   "version": "3.7.9"
  }
 },
 "nbformat": 4,
 "nbformat_minor": 5
}
